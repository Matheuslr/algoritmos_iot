{
 "cells": [
  {
   "cell_type": "markdown",
   "metadata": {},
   "source": [
    "Criando uma classe para representar um radio, a distância é representada em seu módulo."
   ]
  },
  {
   "cell_type": "code",
   "execution_count": 24,
   "metadata": {},
   "outputs": [],
   "source": [
    "class Radio: \n",
    "    \n",
    "    def __init__(self, power, distanceToCenter):\n",
    "             \n",
    "            self.power = power\n",
    "            self.distanceToCenter = distanceToCenter\n"
   ]
  },
  {
   "cell_type": "markdown",
   "metadata": {},
   "source": [
    "definindo a fórmula de somatório das distanciâncias elevadas pelo alpha"
   ]
  },
  {
   "cell_type": "code",
   "execution_count": 17,
   "metadata": {},
   "outputs": [],
   "source": [
    "def sumDistancesPowAlpha(radioList, radioU, radioV, alpha):\n",
    "    sumDistance = 0\n",
    "    for radio in radioList:\n",
    "        sumDistance = sumDistance +(radio.distanceToCenter - radioV.distanceToCenter) \n",
    "    sumDistance = sumDistance - radioU.distanceToCenter\n",
    "    sumPowered = sumDistance^alpha\n",
    "    print(sumPowered)\n",
    "    return sumPowered"
   ]
  },
  {
   "cell_type": "markdown",
   "metadata": {},
   "source": [
    "definindo a interferência de todas as potências no sistema"
   ]
  },
  {
   "cell_type": "code",
   "execution_count": 89,
   "metadata": {},
   "outputs": [],
   "source": [
    "def sumPower(radioList, radioU, radioV):\n",
    "    sumPower = 0\n",
    "    for radio in radioList:\n",
    "        sumPower = sumPower + radio.power\n",
    "#         print(sumPower)\n",
    "#     print(sumPower)\n",
    "#     print(radio.power)\n",
    "    sumPower = radio.power - radioU.power\n",
    "    print(sumPower)\n",
    "    \n",
    "    return sumPower"
   ]
  },
  {
   "cell_type": "markdown",
   "metadata": {},
   "source": [
    "definindo a fórmula SINR"
   ]
  },
  {
   "cell_type": "code",
   "execution_count": 92,
   "metadata": {},
   "outputs": [],
   "source": [
    "def SINR(radioU, radioV, radioList, alpha, noise, beta):\n",
    "    \n",
    "    recivedSignalFromSender = radioU.power / ((radioU.distanceToCenter + radioV.distanceToCenter)^alpha)\n",
    "#     print(recivedSignalFromSender)\n",
    "    recivedSignalFromAllOtherNodes = noise + (sumDistancesPowAlpha(radioList, radioU, radioV, alpha) / sumPower(radioList, radioU, radioV))\n",
    "#     print(recivedSignalFromAllOtherNodes)\n",
    "    result = recivedSignalFromSender/recivedSignalFromAllOtherNodes\n",
    "    \n",
    "    isPacketSent = (result >= beta)\n",
    "#     print(result)\n",
    "    if isPacketSent:\n",
    "        return [result, True]\n",
    "    else:\n",
    "        return [result, False]"
   ]
  },
  {
   "cell_type": "markdown",
   "metadata": {},
   "source": [
    "criando radios"
   ]
  },
  {
   "cell_type": "code",
   "execution_count": 93,
   "metadata": {},
   "outputs": [
    {
     "name": "stdout",
     "output_type": "stream",
     "text": [
      "0.001\n"
     ]
    },
    {
     "ename": "ZeroDivisionError",
     "evalue": "float division by zero",
     "output_type": "error",
     "traceback": [
      "\u001b[0;31m---------------------------------------------------------------------------\u001b[0m",
      "\u001b[0;31mZeroDivisionError\u001b[0m                         Traceback (most recent call last)",
      "\u001b[0;32m<ipython-input-93-a132130d4e82>\u001b[0m in \u001b[0;36m<module>\u001b[0;34m\u001b[0m\n\u001b[1;32m     19\u001b[0m     \u001b[0mradioList\u001b[0m\u001b[0;34m.\u001b[0m\u001b[0mappend\u001b[0m\u001b[0;34m(\u001b[0m\u001b[0mradio2\u001b[0m\u001b[0;34m)\u001b[0m\u001b[0;34m\u001b[0m\u001b[0;34m\u001b[0m\u001b[0m\n\u001b[1;32m     20\u001b[0m \u001b[0;34m\u001b[0m\u001b[0m\n\u001b[0;32m---> 21\u001b[0;31m     \u001b[0mSINR_result\u001b[0m \u001b[0;34m=\u001b[0m \u001b[0mSINR\u001b[0m\u001b[0;34m(\u001b[0m\u001b[0mradio1\u001b[0m\u001b[0;34m,\u001b[0m \u001b[0mradio2\u001b[0m\u001b[0;34m,\u001b[0m \u001b[0mradioList\u001b[0m\u001b[0;34m,\u001b[0m \u001b[0malpha\u001b[0m\u001b[0;34m,\u001b[0m \u001b[0mbeta\u001b[0m\u001b[0;34m,\u001b[0m \u001b[0mnoise\u001b[0m\u001b[0;34m)\u001b[0m\u001b[0;34m\u001b[0m\u001b[0;34m\u001b[0m\u001b[0m\n\u001b[0m\u001b[1;32m     22\u001b[0m     \u001b[0mresultList\u001b[0m\u001b[0;34m.\u001b[0m\u001b[0mappend\u001b[0m\u001b[0;34m(\u001b[0m\u001b[0mSINR_result\u001b[0m\u001b[0;34m)\u001b[0m\u001b[0;34m\u001b[0m\u001b[0;34m\u001b[0m\u001b[0m\n\u001b[1;32m     23\u001b[0m     \u001b[0mnumber_of_radios\u001b[0m \u001b[0;34m=\u001b[0m \u001b[0mnumber_of_radios\u001b[0m \u001b[0;34m+\u001b[0m \u001b[0;36m2\u001b[0m\u001b[0;34m\u001b[0m\u001b[0;34m\u001b[0m\u001b[0m\n",
      "\u001b[0;32m<ipython-input-92-255aafcac9ad>\u001b[0m in \u001b[0;36mSINR\u001b[0;34m(radioU, radioV, radioList, alpha, noise, beta)\u001b[0m\n\u001b[1;32m      3\u001b[0m     \u001b[0mrecivedSignalFromSender\u001b[0m \u001b[0;34m=\u001b[0m \u001b[0mradioU\u001b[0m\u001b[0;34m.\u001b[0m\u001b[0mpower\u001b[0m \u001b[0;34m/\u001b[0m \u001b[0;34m(\u001b[0m\u001b[0;34m(\u001b[0m\u001b[0mradioU\u001b[0m\u001b[0;34m.\u001b[0m\u001b[0mdistanceToCenter\u001b[0m \u001b[0;34m+\u001b[0m \u001b[0mradioV\u001b[0m\u001b[0;34m.\u001b[0m\u001b[0mdistanceToCenter\u001b[0m\u001b[0;34m)\u001b[0m\u001b[0;34m^\u001b[0m\u001b[0malpha\u001b[0m\u001b[0;34m)\u001b[0m\u001b[0;34m\u001b[0m\u001b[0;34m\u001b[0m\u001b[0m\n\u001b[1;32m      4\u001b[0m     \u001b[0mprint\u001b[0m\u001b[0;34m(\u001b[0m\u001b[0mrecivedSignalFromSender\u001b[0m\u001b[0;34m)\u001b[0m\u001b[0;34m\u001b[0m\u001b[0;34m\u001b[0m\u001b[0m\n\u001b[0;32m----> 5\u001b[0;31m     \u001b[0mrecivedSignalFromAllOtherNodes\u001b[0m \u001b[0;34m=\u001b[0m \u001b[0mnoise\u001b[0m \u001b[0;34m+\u001b[0m \u001b[0;34m(\u001b[0m\u001b[0msumDistancesPowAlpha\u001b[0m\u001b[0;34m(\u001b[0m\u001b[0mradioList\u001b[0m\u001b[0;34m,\u001b[0m \u001b[0mradioU\u001b[0m\u001b[0;34m,\u001b[0m \u001b[0mradioV\u001b[0m\u001b[0;34m,\u001b[0m \u001b[0malpha\u001b[0m\u001b[0;34m)\u001b[0m \u001b[0;34m/\u001b[0m \u001b[0msumPower\u001b[0m\u001b[0;34m(\u001b[0m\u001b[0mradioList\u001b[0m\u001b[0;34m,\u001b[0m \u001b[0mradioU\u001b[0m\u001b[0;34m,\u001b[0m \u001b[0mradioV\u001b[0m\u001b[0;34m)\u001b[0m\u001b[0;34m)\u001b[0m\u001b[0;34m\u001b[0m\u001b[0;34m\u001b[0m\u001b[0m\n\u001b[0m\u001b[1;32m      6\u001b[0m     \u001b[0mprint\u001b[0m\u001b[0;34m(\u001b[0m\u001b[0mrecivedSignalFromAllOtherNodes\u001b[0m\u001b[0;34m)\u001b[0m\u001b[0;34m\u001b[0m\u001b[0;34m\u001b[0m\u001b[0m\n\u001b[1;32m      7\u001b[0m     \u001b[0mresult\u001b[0m \u001b[0;34m=\u001b[0m \u001b[0mrecivedSignalFromSender\u001b[0m\u001b[0;34m/\u001b[0m\u001b[0mrecivedSignalFromAllOtherNodes\u001b[0m\u001b[0;34m\u001b[0m\u001b[0;34m\u001b[0m\u001b[0m\n",
      "\u001b[0;31mZeroDivisionError\u001b[0m: float division by zero"
     ]
    }
   ],
   "source": [
    "radioList = []\n",
    "resultList = []\n",
    "distance = 0\n",
    "power1 = 0.001\n",
    "# power2 = 0.00003\n",
    "alpha = 3\n",
    "beta = 3\n",
    "noise = 0.00000001\n",
    "\n",
    "SINR_result = [0,True]\n",
    "number_of_radios = 0\n",
    "while(SINR_result[1] is True):\n",
    "    distance = distance + 1\n",
    "    \n",
    "    radio1 = Radio(power1, distance)\n",
    "    radio2 = Radio(power1, distance)\n",
    "\n",
    "    radioList.append(radio1)\n",
    "    radioList.append(radio2)\n",
    "    \n",
    "    SINR_result = SINR(radio1, radio2, radioList, alpha, beta, noise)\n",
    "    resultList.append(SINR_result)\n",
    "    number_of_radios = number_of_radios + 2\n",
    "\n",
    "# print(resultList)\n",
    "# print(number_of_radios)"
   ]
  },
  {
   "cell_type": "code",
   "execution_count": null,
   "metadata": {},
   "outputs": [],
   "source": []
  },
  {
   "cell_type": "code",
   "execution_count": null,
   "metadata": {},
   "outputs": [],
   "source": []
  },
  {
   "cell_type": "code",
   "execution_count": null,
   "metadata": {},
   "outputs": [],
   "source": []
  },
  {
   "cell_type": "code",
   "execution_count": null,
   "metadata": {},
   "outputs": [],
   "source": []
  },
  {
   "cell_type": "code",
   "execution_count": null,
   "metadata": {},
   "outputs": [],
   "source": []
  }
 ],
 "metadata": {
  "kernelspec": {
   "display_name": "Python 3",
   "language": "python",
   "name": "python3"
  },
  "language_info": {
   "codemirror_mode": {
    "name": "ipython",
    "version": 3
   },
   "file_extension": ".py",
   "mimetype": "text/x-python",
   "name": "python",
   "nbconvert_exporter": "python",
   "pygments_lexer": "ipython3",
   "version": "3.7.3"
  }
 },
 "nbformat": 4,
 "nbformat_minor": 2
}
