{
 "cells": [
  {
   "cell_type": "markdown",
   "metadata": {},
   "source": [
    "Criando uma classe para representar um radio, a distância é representada em seu módulo."
   ]
  },
  {
   "cell_type": "code",
   "execution_count": 24,
   "metadata": {},
   "outputs": [],
   "source": [
    "class Radio: \n",
    "    \n",
    "    def __init__(self, power, distanceToCenter):\n",
    "             \n",
    "            self.power = power\n",
    "            self.distanceToCenter = distanceToCenter\n"
   ]
  },
  {
   "cell_type": "markdown",
   "metadata": {},
   "source": [
    "definindo a fórmula de somatório das distanciâncias elevadas pelo alpha"
   ]
  },
  {
   "cell_type": "code",
   "execution_count": 167,
   "metadata": {},
   "outputs": [],
   "source": [
    "def sumDistancesPowAlpha(radioList, radioU, radioV, alpha):\n",
    "    sumDistance = 0\n",
    "    for radio in radioList:\n",
    "        sumDistance = sumDistance +(radio.distanceToCenter + radioV.distanceToCenter) \n",
    "    sumDistance = sumDistance - radioU.distanceToCenter\n",
    "    sumPowered = pow(sumDistance,alpha)\n",
    "    return sumPowered"
   ]
  },
  {
   "cell_type": "markdown",
   "metadata": {},
   "source": [
    "definindo a interferência de todas as potências no sistema"
   ]
  },
  {
   "cell_type": "code",
   "execution_count": 168,
   "metadata": {},
   "outputs": [],
   "source": [
    "def sumPower(radioList, radioU, radioV):\n",
    "    sum = 0\n",
    "    for radio in radioList:\n",
    "        sum = sum + radio.power\n",
    "\n",
    "    sum = sum - radioU.power\n",
    "    \n",
    "    return sum"
   ]
  },
  {
   "cell_type": "markdown",
   "metadata": {},
   "source": [
    "definindo a fórmula SINR"
   ]
  },
  {
   "cell_type": "code",
   "execution_count": 179,
   "metadata": {},
   "outputs": [],
   "source": [
    "def SINR(radioU, radioV, radioList, alpha, noise, beta):\n",
    "    \n",
    "    recivedSignalFromSender = radioU.power / (pow((radioU.distanceToCenter + radioV.distanceToCenter),alpha))\n",
    "    recivedSignalFromAllOtherNodes = noise + (sumPower(radioList, radioU, radioV) / sumDistancesPowAlpha(radioList, radioU, radioV, alpha))\n",
    "    result = recivedSignalFromSender/recivedSignalFromAllOtherNodes\n",
    "    \n",
    "    isPacketSent = (result >= beta)\n",
    "    if isPacketSent:\n",
    "        return [result, True]\n",
    "    else:\n",
    "        return [result, False]"
   ]
  },
  {
   "cell_type": "markdown",
   "metadata": {},
   "source": [
    "criando radios e realizando os cálculos com a distância travada em 10cm."
   ]
  },
  {
   "cell_type": "code",
   "execution_count": 188,
   "metadata": {},
   "outputs": [
    {
     "name": "stdout",
     "output_type": "stream",
     "text": [
      "Número de rádios = 320\n"
     ]
    }
   ],
   "source": [
    "radioList = []\n",
    "resultList = []\n",
    "distance = 0\n",
    "power1 = 0.001\n",
    "power2 = 0.00003\n",
    "alpha = 3\n",
    "beta = 3\n",
    "noise = 0.00000001\n",
    "\n",
    "SINR_result = [0,True]\n",
    "number_of_radios = 0\n",
    "while(SINR_result[1] is True):\n",
    "\n",
    "    distance = distance + 0.1\n",
    "    \n",
    "    \n",
    "    radio1 = Radio(power1, distance)\n",
    "    radio2 = Radio(power2, distance)\n",
    "\n",
    "    radioList.append(radio1)\n",
    "    radioList.append(radio2)\n",
    "    \n",
    "    SINR_result = SINR(radio1, radio2, radioList, alpha, noise, beta)\n",
    "    resultList.append(SINR_result)\n",
    "    number_of_radios = number_of_radios + 2\n",
    "    \n",
    "number_of_radios = number_of_radios - 2\n",
    "# print(resultList)\n",
    "print(\"Número de rádios = \" + str(number_of_radios))"
   ]
  },
  {
   "cell_type": "markdown",
   "metadata": {},
   "source": [
    "criando radios e realizando os cálculos com a distância travada em 1m."
   ]
  },
  {
   "cell_type": "code",
   "execution_count": 187,
   "metadata": {},
   "outputs": [
    {
     "name": "stdout",
     "output_type": "stream",
     "text": [
      "[[111.49653121902847, True], [25.063121936729534, True], [39.84773682346304, True], [51.11313039527489, True], [50.41075429424944, True], [41.00776728738963, True], [30.48368633975357, True], [22.148485084635926, True], [16.212375313053776, True], [12.08378088077336, True], [9.19290184474427, True], [7.133284590852799, True], [5.635994807439666, True], [4.525519886016907, True], [3.6863833393677425, True], [3.041364457474438, True], [2.5378411435624266, False]]\n",
      "Número de rádios = 32\n"
     ]
    }
   ],
   "source": [
    "radioList = []\n",
    "resultList = []\n",
    "distance = 0\n",
    "power1 = 0.001\n",
    "power2 = 0.00003\n",
    "alpha = 3\n",
    "beta = 3\n",
    "noise = 0.00000001\n",
    "\n",
    "SINR_result = [0,True]\n",
    "number_of_radios = 0\n",
    "while(SINR_result[1] is True):\n",
    "\n",
    "    distance = distance + 1\n",
    "    \n",
    "    \n",
    "    radio1 = Radio(power1, distance)\n",
    "    radio2 = Radio(power2, distance)\n",
    "\n",
    "    radioList.append(radio1)\n",
    "    radioList.append(radio2)\n",
    "    \n",
    "    SINR_result = SINR(radio1, radio2, radioList, alpha, noise, beta)\n",
    "    resultList.append(SINR_result)\n",
    "    number_of_radios = number_of_radios + 2\n",
    "    \n",
    "number_of_radios = number_of_radios - 2\n",
    "print(\"Número de rádios = \" + str(number_of_radios))"
   ]
  },
  {
   "cell_type": "code",
   "execution_count": null,
   "metadata": {},
   "outputs": [],
   "source": []
  },
  {
   "cell_type": "code",
   "execution_count": null,
   "metadata": {},
   "outputs": [],
   "source": []
  }
 ],
 "metadata": {
  "kernelspec": {
   "display_name": "Python 3",
   "language": "python",
   "name": "python3"
  },
  "language_info": {
   "codemirror_mode": {
    "name": "ipython",
    "version": 3
   },
   "file_extension": ".py",
   "mimetype": "text/x-python",
   "name": "python",
   "nbconvert_exporter": "python",
   "pygments_lexer": "ipython3",
   "version": "3.7.3"
  }
 },
 "nbformat": 4,
 "nbformat_minor": 2
}
